{
 "cells": [
  {
   "cell_type": "markdown",
   "metadata": {},
   "source": [
    "# Shokupan Recipe Generator!\n",
    "## by Giovanni D'Amico\n",
    "---\n",
    "\n",
    "Run first code block to generate formula for **Shokupan Bread**"
   ]
  },
  {
   "cell_type": "code",
   "execution_count": 36,
   "metadata": {},
   "outputs": [],
   "source": [
    "struct IngredientPercent\n",
    "    name::String\n",
    "    percentage::Real\n",
    "end\n",
    "\n",
    "struct FlourPercent\n",
    "    name::String\n",
    "    percentage::Real\n",
    "end\n",
    "\n",
    "struct IngredientMass\n",
    "    name::String\n",
    "    mass::Real\n",
    "end\n",
    "\n",
    "struct FlourMass\n",
    "    name::String\n",
    "    mass::Real\n",
    "end\n",
    "\n"
   ]
  },
  {
   "cell_type": "code",
   "execution_count": 3,
   "metadata": {},
   "outputs": [
    {
     "data": {
      "text/plain": [
       "5-element Vector{IngredientPercent}:\n",
       " IngredientPercent(\"Sugar\", 0.048)\n",
       " IngredientPercent(\"Salt\", 0.02)\n",
       " IngredientPercent(\"Yeast\", 0.012)\n",
       " IngredientPercent(\"Milk\", 0.718)\n",
       " IngredientPercent(\"Butter\", 0.054)"
      ]
     },
     "metadata": {},
     "output_type": "display_data"
    }
   ],
   "source": [
    "name = \"Shokupan Bread\"\n",
    "cold = 0.29\n",
    "coldDensity = 1.0\n",
    "warm = 0.25\n",
    "warmDensity = 0.99\n",
    "description = \"Shokupan is a buttery japanese style milkbread with a flavorful consistency. Shokupan has a dense and flavorful but very soft inner crumb and a crunchy buttery exterior.\"\n",
    "author = \"havoczephyr\"\n",
    "\n",
    "floursPercent = [FlourPercent(\"Bread Flour\", 1.00)]\n",
    "ingredientsPercent = [\n",
    "    IngredientPercent(\"Sugar\", 0.048),\n",
    "    IngredientPercent(\"Salt\", 0.020),\n",
    "    IngredientPercent(\"Yeast\", 0.012),\n",
    "    IngredientPercent(\"Milk\", 0.718),\n",
    "    IngredientPercent(\"Butter\", 0.054)\n",
    "]"
   ]
  },
  {
   "cell_type": "markdown",
   "metadata": {},
   "source": [
    "set these parameters below appropriately for your outside temperature\n",
    "- for Winter/Autumn temperatures set `VolumeRatio` to `cold` and `density` to `coldDensity`\n",
    "- for Spring/Summer temperatures set `VolumeRatio` to `warm` and `density` to `warmDensity`"
   ]
  },
  {
   "cell_type": "code",
   "execution_count": 4,
   "metadata": {},
   "outputs": [
    {
     "data": {
      "text/plain": [
       "1.0"
      ]
     },
     "metadata": {},
     "output_type": "display_data"
    }
   ],
   "source": [
    "volumeRatio = cold\n",
    "density = coldDensity"
   ]
  },
  {
   "cell_type": "code",
   "execution_count": 76,
   "metadata": {},
   "outputs": [
    {
     "name": "stdout",
     "output_type": "stream",
     "text": [
      "# Shokupan Bread\n",
      "### Recipe by havoczephyr\n",
      "\n",
      "Shokupan is a buttery japanese style milkbread with a flavorful consistency. Shokupan has a dense and flavorful but very soft inner crumb and a crunchy buttery exterior.\n",
      "\n",
      "**Flours**:\n",
      "- Bread Flour: 468.0g\n",
      "\n",
      "**Ingredients**:\n",
      "- Sugar: 22.0g\n",
      "- Salt: 9.0g\n",
      "- Yeast: 6.0g\n",
      "- Milk: 336.0g\n",
      "- Butter: 25.0g"
     ]
    }
   ],
   "source": [
    "function shokupanScaler(length, width, depth, containerName)\n",
    "    containerVolume = length * width * depth\n",
    "    doughVolume = containerVolume * volumeRatio\n",
    "    doughMass = doughVolume * density\n",
    "    totalPercentage = sum(vcat(map(x -> x.percentage, floursPercent),map(x -> x.percentage, ingredientsPercent)))\n",
    "    flour_total = doughMass / totalPercentage\n",
    "    floursMass = []\n",
    "    ingredientsMass = []\n",
    "    for i in ingredientsPercent\n",
    "        push!(ingredientsMass, IngredientMass(i.name, flour_total * i.percentage))\n",
    "    end\n",
    "    for i in floursPercent\n",
    "        push!(floursMass, FlourMass(i.name, flour_total * i.percentage))\n",
    "    end\n",
    "    markdownString = string(\"# \", name, \"\\n### Recipe by \", author, \"\\n\\n\", description, \"\\n\\n**Flours**:\")\n",
    "    for i in floursMass\n",
    "        markdownString = string(markdownString, \"\\n- \", i.name, \": \", round(i.mass), \"g\")\n",
    "    end\n",
    "    markdownString = string(markdownString, \"\\n\\n**Ingredients**:\")\n",
    "    for i in ingredientsMass\n",
    "        markdownString = string(markdownString, \"\\n- \", i.name, \": \", round(i.mass), \"g\")\n",
    "    end\n",
    "    markdownString = string(markdownString, \"\\n\\n**Container Size**:\\n- \", length, \"cm x \", width, \"cm x\", depth, \"cm\")\n",
    "    print(markdownString)\n",
    "end\n",
    "\n",
    "shokupanScaler(21.3, 12.2, 11.5)"
   ]
  },
  {
   "cell_type": "markdown",
   "metadata": {},
   "source": [
    "# Shokupan Bread\n",
    "### Recipe by havoczephyr\n",
    "\n",
    "Shokupan is a buttery japanese style milkbread with a flavorful consistency. Shokupan has a dense and flavorful but very soft inner crumb and a crunchy buttery exterior.\n",
    "\n",
    "\n",
    "**Flours**:\n",
    "- Bread Flour: 527g\n",
    "\n",
    "**Ingredients**:\n",
    "- Sugar: 25g\n",
    "- Salt: 10.5g\n",
    "- Instant Yeast: 6.3g\n",
    "- Water: 378g\n",
    "- Butter: 24g\n",
    "\n",
    "**Container Size**:\n",
    "- 21.3cm x 12.2cm x 11.5cm\n",
    "\n",
    " **Volume**:\n",
    "- 2988.39cm³\n",
    "\n",
    "\n",
    "final_blob = \"\n",
    "    # %s\n",
    "### Recipe by %s\n",
    "\n",
    "%s\n",
    "\n",
    "\n",
    "**Flours**:\n",
    "    %s: %f g\n",
    "\n",
    "**Ingredients**:\n",
    "- %s: %f g\n",
    "- %s: %f g\n",
    "- %s: %f g\n",
    "- %s: %f g\n",
    "- %s: %f g\n",
    "\n",
    "**Container Size**:\n",
    "- %f cm x %f cm x %f cm\n",
    "\n",
    " **Volume**:\n",
    "- %f cm³\n",
    "    \""
   ]
  }
 ],
 "metadata": {
  "kernelspec": {
   "display_name": "Julia 1.7.2",
   "language": "julia",
   "name": "julia-1.7"
  },
  "language_info": {
   "file_extension": ".jl",
   "mimetype": "application/julia",
   "name": "julia",
   "version": "1.7.2"
  },
  "orig_nbformat": 4
 },
 "nbformat": 4,
 "nbformat_minor": 2
}
